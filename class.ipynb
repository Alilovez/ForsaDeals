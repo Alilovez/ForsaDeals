{
 "cells": [
  {
   "cell_type": "code",
   "execution_count": 1,
   "id": "37704d1d",
   "metadata": {},
   "outputs": [
    {
     "name": "stderr",
     "output_type": "stream",
     "text": [
      "C:\\Users\\mayar\\AppData\\Local\\Temp\\ipykernel_8232\\2047268887.py:26: UserWarning: pandas only supports SQLAlchemy connectable (engine/connection) or database string URI or sqlite3 DBAPI2 connection. Other DBAPI2 objects are not tested. Please consider using SQLAlchemy.\n",
      "  df = pd.read_sql(query, conn)\n"
     ]
    }
   ],
   "source": [
    "import pandas as pd\n",
    "import pyodbc\n",
    "conn = pyodbc.connect(\n",
    "    'DRIVER={SQL Server};'\n",
    "    'SERVER=MAYAR;'\n",
    "    'DATABASE=DW_hotels;'\n",
    "    'Trusted_Connection=yes;'  \n",
    ")\n",
    "\n",
    "# SQL query\n",
    "query = ''' \n",
    "SELECT \n",
    "    Customer_id,\n",
    "    [Ease of Navigation],\n",
    "    [Website Speed],\n",
    "    [Mobile Friendliness],\n",
    "    [Customer Support],\n",
    "    [Booking Ease],\n",
    "    [Payment Security],\n",
    "    [Room Availability],\n",
    "    [Cancellation Policy],\n",
    "    Satisfaction\n",
    "FROM Fact_feedbacks\n",
    "\n",
    "'''\n",
    "df = pd.read_sql(query, conn)"
   ]
  },
  {
   "cell_type": "code",
   "execution_count": 2,
   "id": "e4a5778e",
   "metadata": {},
   "outputs": [],
   "source": [
    "df['Satisfaction'] = df['Satisfaction'].map({\n",
    "    'satisfied': 1,\n",
    "    'neutral or dissatisfied': 0,\n",
    "    'Neutral or Dissatisfied': 0,\n",
    "    'Satisfied': 1,\n",
    "    'Dissatisfied': 0\n",
    "})\n"
   ]
  },
  {
   "cell_type": "code",
   "execution_count": 3,
   "id": "5a91504e",
   "metadata": {},
   "outputs": [
    {
     "data": {
      "text/html": [
       "<div>\n",
       "<style scoped>\n",
       "    .dataframe tbody tr th:only-of-type {\n",
       "        vertical-align: middle;\n",
       "    }\n",
       "\n",
       "    .dataframe tbody tr th {\n",
       "        vertical-align: top;\n",
       "    }\n",
       "\n",
       "    .dataframe thead th {\n",
       "        text-align: right;\n",
       "    }\n",
       "</style>\n",
       "<table border=\"1\" class=\"dataframe\">\n",
       "  <thead>\n",
       "    <tr style=\"text-align: right;\">\n",
       "      <th></th>\n",
       "      <th>Customer_id</th>\n",
       "      <th>Ease of Navigation</th>\n",
       "      <th>Website Speed</th>\n",
       "      <th>Mobile Friendliness</th>\n",
       "      <th>Customer Support</th>\n",
       "      <th>Booking Ease</th>\n",
       "      <th>Payment Security</th>\n",
       "      <th>Room Availability</th>\n",
       "      <th>Cancellation Policy</th>\n",
       "      <th>Satisfaction</th>\n",
       "    </tr>\n",
       "  </thead>\n",
       "  <tbody>\n",
       "    <tr>\n",
       "      <th>0</th>\n",
       "      <td>1</td>\n",
       "      <td>3</td>\n",
       "      <td>3</td>\n",
       "      <td>2</td>\n",
       "      <td>4</td>\n",
       "      <td>1</td>\n",
       "      <td>1</td>\n",
       "      <td>5</td>\n",
       "      <td>5</td>\n",
       "      <td>1</td>\n",
       "    </tr>\n",
       "    <tr>\n",
       "      <th>1</th>\n",
       "      <td>2</td>\n",
       "      <td>2</td>\n",
       "      <td>5</td>\n",
       "      <td>1</td>\n",
       "      <td>4</td>\n",
       "      <td>2</td>\n",
       "      <td>4</td>\n",
       "      <td>4</td>\n",
       "      <td>1</td>\n",
       "      <td>1</td>\n",
       "    </tr>\n",
       "    <tr>\n",
       "      <th>2</th>\n",
       "      <td>3</td>\n",
       "      <td>5</td>\n",
       "      <td>2</td>\n",
       "      <td>2</td>\n",
       "      <td>2</td>\n",
       "      <td>4</td>\n",
       "      <td>4</td>\n",
       "      <td>3</td>\n",
       "      <td>4</td>\n",
       "      <td>1</td>\n",
       "    </tr>\n",
       "    <tr>\n",
       "      <th>3</th>\n",
       "      <td>4</td>\n",
       "      <td>2</td>\n",
       "      <td>2</td>\n",
       "      <td>3</td>\n",
       "      <td>1</td>\n",
       "      <td>1</td>\n",
       "      <td>1</td>\n",
       "      <td>4</td>\n",
       "      <td>3</td>\n",
       "      <td>1</td>\n",
       "    </tr>\n",
       "    <tr>\n",
       "      <th>4</th>\n",
       "      <td>5</td>\n",
       "      <td>5</td>\n",
       "      <td>4</td>\n",
       "      <td>3</td>\n",
       "      <td>1</td>\n",
       "      <td>2</td>\n",
       "      <td>1</td>\n",
       "      <td>5</td>\n",
       "      <td>5</td>\n",
       "      <td>0</td>\n",
       "    </tr>\n",
       "  </tbody>\n",
       "</table>\n",
       "</div>"
      ],
      "text/plain": [
       "   Customer_id  Ease of Navigation  Website Speed  Mobile Friendliness  \\\n",
       "0            1                   3              3                    2   \n",
       "1            2                   2              5                    1   \n",
       "2            3                   5              2                    2   \n",
       "3            4                   2              2                    3   \n",
       "4            5                   5              4                    3   \n",
       "\n",
       "   Customer Support  Booking Ease  Payment Security  Room Availability  \\\n",
       "0                 4             1                 1                  5   \n",
       "1                 4             2                 4                  4   \n",
       "2                 2             4                 4                  3   \n",
       "3                 1             1                 1                  4   \n",
       "4                 1             2                 1                  5   \n",
       "\n",
       "   Cancellation Policy  Satisfaction  \n",
       "0                    5             1  \n",
       "1                    1             1  \n",
       "2                    4             1  \n",
       "3                    3             1  \n",
       "4                    5             0  "
      ]
     },
     "execution_count": 3,
     "metadata": {},
     "output_type": "execute_result"
    }
   ],
   "source": [
    "df.head()"
   ]
  },
  {
   "cell_type": "code",
   "execution_count": 4,
   "id": "ae463694",
   "metadata": {},
   "outputs": [
    {
     "data": {
      "text/plain": [
       "Satisfaction\n",
       "1    17465\n",
       "0     9532\n",
       "Name: count, dtype: int64"
      ]
     },
     "execution_count": 4,
     "metadata": {},
     "output_type": "execute_result"
    }
   ],
   "source": [
    "satisfaction_counts = df['Satisfaction'].value_counts()\n",
    "satisfaction_counts"
   ]
  },
  {
   "cell_type": "code",
   "execution_count": 5,
   "id": "98589d7b",
   "metadata": {},
   "outputs": [],
   "source": [
    "X = df.drop(columns=['Customer_id', 'Satisfaction'])\n",
    "y = df['Satisfaction']\n"
   ]
  },
  {
   "cell_type": "code",
   "execution_count": 6,
   "id": "925b7bcd",
   "metadata": {},
   "outputs": [
    {
     "name": "stdout",
     "output_type": "stream",
     "text": [
      "              precision    recall  f1-score   support\n",
      "\n",
      "           0       0.34      0.15      0.21      1933\n",
      "           1       0.64      0.84      0.73      3467\n",
      "\n",
      "    accuracy                           0.59      5400\n",
      "   macro avg       0.49      0.49      0.47      5400\n",
      "weighted avg       0.53      0.59      0.54      5400\n",
      "\n",
      "[[ 289 1644]\n",
      " [ 557 2910]]\n"
     ]
    }
   ],
   "source": [
    "from sklearn.model_selection import train_test_split\n",
    "from sklearn.ensemble import RandomForestClassifier\n",
    "from sklearn.metrics import classification_report, confusion_matrix\n",
    "\n",
    "X_train, X_test, y_train, y_test = train_test_split(X, y, test_size=0.2, random_state=42)\n",
    "\n",
    "model = RandomForestClassifier(random_state=42)\n",
    "model.fit(X_train, y_train)\n",
    "rf_preds = model.predict(X_test)\n",
    "\n",
    "print(classification_report(y_test, rf_preds))\n",
    "print(confusion_matrix(y_test, rf_preds))\n"
   ]
  },
  {
   "cell_type": "code",
   "execution_count": 7,
   "id": "c88bdfcc",
   "metadata": {},
   "outputs": [
    {
     "name": "stdout",
     "output_type": "stream",
     "text": [
      "              precision    recall  f1-score   support\n",
      "\n",
      "           0       0.34      0.13      0.19      1933\n",
      "           1       0.64      0.86      0.73      3467\n",
      "\n",
      "    accuracy                           0.60      5400\n",
      "   macro avg       0.49      0.50      0.46      5400\n",
      "weighted avg       0.53      0.60      0.54      5400\n",
      "\n",
      "[[ 255 1678]\n",
      " [ 490 2977]]\n"
     ]
    },
    {
     "name": "stderr",
     "output_type": "stream",
     "text": [
      "c:\\Users\\mayar\\AppData\\Local\\Programs\\Python\\Python313\\Lib\\site-packages\\xgboost\\training.py:183: UserWarning: [18:28:29] WARNING: C:\\actions-runner\\_work\\xgboost\\xgboost\\src\\learner.cc:738: \n",
      "Parameters: { \"use_label_encoder\" } are not used.\n",
      "\n",
      "  bst.update(dtrain, iteration=i, fobj=obj)\n"
     ]
    }
   ],
   "source": [
    "import xgboost as xgb\n",
    "from sklearn.metrics import classification_report, confusion_matrix\n",
    "\n",
    "\n",
    "\n",
    "xgb_model = xgb.XGBClassifier(\n",
    "    objective='binary:logistic',\n",
    "    eval_metric='logloss',\n",
    "    use_label_encoder=False,\n",
    "    random_state=42\n",
    ")\n",
    "\n",
    "xgb_model.fit(X_train, y_train)\n",
    "xgb_preds = xgb_model.predict(X_test)\n",
    "\n",
    "print(classification_report(y_test, xgb_preds))\n",
    "print(confusion_matrix(y_test, xgb_preds))\n"
   ]
  },
  {
   "cell_type": "code",
   "execution_count": 8,
   "id": "c36008b4",
   "metadata": {},
   "outputs": [
    {
     "name": "stderr",
     "output_type": "stream",
     "text": [
      "c:\\Users\\mayar\\AppData\\Local\\Programs\\Python\\Python313\\Lib\\site-packages\\xgboost\\training.py:183: UserWarning: [18:28:31] WARNING: C:\\actions-runner\\_work\\xgboost\\xgboost\\src\\learner.cc:738: \n",
      "Parameters: { \"use_label_encoder\" } are not used.\n",
      "\n",
      "  bst.update(dtrain, iteration=i, fobj=obj)\n"
     ]
    },
    {
     "name": "stdout",
     "output_type": "stream",
     "text": [
      "               Accuracy  Precision  Recall  F1 Score\n",
      "Random Forest    0.5924     0.6390  0.8393    0.7256\n",
      "XGBoost          0.5985     0.6395  0.8587    0.7331\n"
     ]
    }
   ],
   "source": [
    "from sklearn.ensemble import RandomForestClassifier\n",
    "from xgboost import XGBClassifier\n",
    "from sklearn.metrics import accuracy_score, precision_score, recall_score, f1_score\n",
    "\n",
    "# Train Random Forest\n",
    "rf_model = RandomForestClassifier(random_state=42)\n",
    "rf_model.fit(X_train, y_train)\n",
    "rf_preds = rf_model.predict(X_test)\n",
    "\n",
    "# Train XGBoost\n",
    "xgb_model = XGBClassifier(use_label_encoder=False, eval_metric='logloss', random_state=42)\n",
    "xgb_model.fit(X_train, y_train)\n",
    "xgb_preds = xgb_model.predict(X_test)\n",
    "\n",
    "# Define a function to calculate metrics\n",
    "def get_metrics(y_true, y_pred):\n",
    "    return {\n",
    "        \"Accuracy\": accuracy_score(y_true, y_pred),\n",
    "        \"Precision\": precision_score(y_true, y_pred),\n",
    "        \"Recall\": recall_score(y_true, y_pred),\n",
    "        \"F1 Score\": f1_score(y_true, y_pred)\n",
    "    }\n",
    "\n",
    "# Get metrics for both models\n",
    "rf_metrics = get_metrics(y_test, rf_preds)\n",
    "xgb_metrics = get_metrics(y_test, xgb_preds)\n",
    "\n",
    "# Create a DataFrame for comparison\n",
    "import pandas as pd\n",
    "comparison_df = pd.DataFrame([rf_metrics, xgb_metrics], index=['Random Forest', 'XGBoost'])\n",
    "comparison_df = comparison_df.round(4)\n",
    "\n",
    "print(comparison_df)\n"
   ]
  },
  {
   "cell_type": "code",
   "execution_count": 9,
   "id": "ccb1d8f3",
   "metadata": {},
   "outputs": [],
   "source": [
    "df_cleaned = df.drop_duplicates(subset=[col for col in df.columns if col != 'Customer_id'], keep='first')\n"
   ]
  },
  {
   "cell_type": "code",
   "execution_count": 10,
   "id": "edba6fcb",
   "metadata": {},
   "outputs": [
    {
     "data": {
      "text/plain": [
       "Satisfaction\n",
       "1    17093\n",
       "0     9433\n",
       "Name: count, dtype: int64"
      ]
     },
     "execution_count": 10,
     "metadata": {},
     "output_type": "execute_result"
    }
   ],
   "source": [
    "satisfaction_counts = df_cleaned['Satisfaction'].value_counts()\n",
    "satisfaction_counts"
   ]
  },
  {
   "cell_type": "code",
   "execution_count": 11,
   "id": "b22e3361",
   "metadata": {},
   "outputs": [],
   "source": [
    "X_cleaned = df_cleaned.drop(columns=['Customer_id', 'Satisfaction'])\n",
    "y_cleaned = df_cleaned['Satisfaction']\n"
   ]
  },
  {
   "cell_type": "code",
   "execution_count": 12,
   "id": "0f840017",
   "metadata": {},
   "outputs": [],
   "source": [
    "from sklearn.model_selection import train_test_split\n",
    "X_train, X_test, y_train, y_test = train_test_split(X_cleaned, y_cleaned, test_size=0.2, random_state=42)\n"
   ]
  },
  {
   "cell_type": "code",
   "execution_count": 13,
   "id": "724e8485",
   "metadata": {},
   "outputs": [
    {
     "name": "stdout",
     "output_type": "stream",
     "text": [
      "              precision    recall  f1-score   support\n",
      "\n",
      "           0       0.30      0.13      0.18      1867\n",
      "           1       0.64      0.83      0.72      3439\n",
      "\n",
      "    accuracy                           0.58      5306\n",
      "   macro avg       0.47      0.48      0.45      5306\n",
      "weighted avg       0.52      0.58      0.53      5306\n",
      "\n",
      "[[ 243 1624]\n",
      " [ 580 2859]]\n"
     ]
    }
   ],
   "source": [
    "from sklearn.ensemble import RandomForestClassifier\n",
    "from sklearn.metrics import classification_report, confusion_matrix\n",
    "\n",
    "rf_model = RandomForestClassifier(random_state=42)\n",
    "rf_model.fit(X_train, y_train)\n",
    "rf_preds = rf_model.predict(X_test)\n",
    "\n",
    "print(classification_report(y_test, rf_preds))\n",
    "print(confusion_matrix(y_test, rf_preds))\n"
   ]
  },
  {
   "cell_type": "code",
   "execution_count": 14,
   "id": "36c7de39",
   "metadata": {},
   "outputs": [
    {
     "name": "stderr",
     "output_type": "stream",
     "text": [
      "c:\\Users\\mayar\\AppData\\Local\\Programs\\Python\\Python313\\Lib\\site-packages\\xgboost\\training.py:183: UserWarning: [18:28:57] WARNING: C:\\actions-runner\\_work\\xgboost\\xgboost\\src\\learner.cc:738: \n",
      "Parameters: { \"use_label_encoder\" } are not used.\n",
      "\n",
      "  bst.update(dtrain, iteration=i, fobj=obj)\n"
     ]
    },
    {
     "name": "stdout",
     "output_type": "stream",
     "text": [
      "              precision    recall  f1-score   support\n",
      "\n",
      "           0       0.35      0.14      0.20      1867\n",
      "           1       0.65      0.85      0.74      3439\n",
      "\n",
      "    accuracy                           0.60      5306\n",
      "   macro avg       0.50      0.50      0.47      5306\n",
      "weighted avg       0.54      0.60      0.55      5306\n",
      "\n",
      "[[ 269 1598]\n",
      " [ 504 2935]]\n"
     ]
    }
   ],
   "source": [
    "import xgboost as xgb\n",
    "from sklearn.metrics import classification_report, confusion_matrix\n",
    "\n",
    "xgb_model = xgb.XGBClassifier(objective='binary:logistic', eval_metric='logloss', use_label_encoder=False, random_state=42)\n",
    "xgb_model.fit(X_train, y_train)\n",
    "xgb_preds = xgb_model.predict(X_test)\n",
    "\n",
    "print(classification_report(y_test, xgb_preds))\n",
    "print(confusion_matrix(y_test, xgb_preds))\n"
   ]
  },
  {
   "cell_type": "code",
   "execution_count": 17,
   "id": "31586937",
   "metadata": {},
   "outputs": [
    {
     "data": {
      "text/plain": [
       "Satisfaction\n",
       "1    17093\n",
       "0     9433\n",
       "Name: count, dtype: int64"
      ]
     },
     "execution_count": 17,
     "metadata": {},
     "output_type": "execute_result"
    }
   ],
   "source": [
    "satisfaction_counts = df_cleaned['Satisfaction'].value_counts()\n",
    "satisfaction_counts"
   ]
  },
  {
   "cell_type": "code",
   "execution_count": 16,
   "id": "e07edc39",
   "metadata": {},
   "outputs": [
    {
     "name": "stdout",
     "output_type": "stream",
     "text": [
      "Epoch [10/50], Loss: 0.6579\n",
      "Epoch [20/50], Loss: 0.6557\n",
      "Epoch [30/50], Loss: 0.6527\n",
      "Epoch [40/50], Loss: 0.6526\n",
      "Epoch [50/50], Loss: 0.6520\n",
      "              precision    recall  f1-score   support\n",
      "\n",
      "           0       0.00      0.00      0.00      1867\n",
      "           1       0.65      1.00      0.79      3439\n",
      "\n",
      "    accuracy                           0.65      5306\n",
      "   macro avg       0.32      0.50      0.39      5306\n",
      "weighted avg       0.42      0.65      0.51      5306\n",
      "\n",
      "[[   0 1867]\n",
      " [   0 3439]]\n"
     ]
    },
    {
     "name": "stderr",
     "output_type": "stream",
     "text": [
      "c:\\Users\\mayar\\AppData\\Local\\Programs\\Python\\Python313\\Lib\\site-packages\\sklearn\\metrics\\_classification.py:1531: UndefinedMetricWarning: Precision is ill-defined and being set to 0.0 in labels with no predicted samples. Use `zero_division` parameter to control this behavior.\n",
      "  _warn_prf(average, modifier, f\"{metric.capitalize()} is\", len(result))\n",
      "c:\\Users\\mayar\\AppData\\Local\\Programs\\Python\\Python313\\Lib\\site-packages\\sklearn\\metrics\\_classification.py:1531: UndefinedMetricWarning: Precision is ill-defined and being set to 0.0 in labels with no predicted samples. Use `zero_division` parameter to control this behavior.\n",
      "  _warn_prf(average, modifier, f\"{metric.capitalize()} is\", len(result))\n",
      "c:\\Users\\mayar\\AppData\\Local\\Programs\\Python\\Python313\\Lib\\site-packages\\sklearn\\metrics\\_classification.py:1531: UndefinedMetricWarning: Precision is ill-defined and being set to 0.0 in labels with no predicted samples. Use `zero_division` parameter to control this behavior.\n",
      "  _warn_prf(average, modifier, f\"{metric.capitalize()} is\", len(result))\n"
     ]
    }
   ],
   "source": [
    "import torch\n",
    "import torch.nn as nn\n",
    "import torch.optim as optim\n",
    "from sklearn.preprocessing import StandardScaler\n",
    "from sklearn.model_selection import train_test_split\n",
    "from sklearn.metrics import classification_report, confusion_matrix\n",
    "\n",
    "# Assuming you have X_cleaned and y_cleaned from earlier\n",
    "# Scale the features\n",
    "scaler = StandardScaler()\n",
    "X_scaled = scaler.fit_transform(X_cleaned)\n",
    "\n",
    "# Convert to PyTorch tensors\n",
    "X_tensor = torch.tensor(X_scaled, dtype=torch.float32)\n",
    "y_tensor = torch.tensor(y_cleaned.values, dtype=torch.long)\n",
    "\n",
    "# Split the data into training and testing sets\n",
    "X_train, X_test, y_train, y_test = train_test_split(X_tensor, y_tensor, test_size=0.2, random_state=42)\n",
    "\n",
    "# Define a simple neural network model\n",
    "class NeuralNetwork(nn.Module):\n",
    "    def __init__(self, input_size):\n",
    "        super(NeuralNetwork, self).__init__()\n",
    "        self.layer1 = nn.Linear(input_size, 64)  # Input layer\n",
    "        self.layer2 = nn.Linear(64, 32)          # Hidden layer\n",
    "        self.output = nn.Linear(32, 2)           # Output layer (2 for binary classification)\n",
    "\n",
    "    def forward(self, x):\n",
    "        x = torch.relu(self.layer1(x))  # Apply ReLU activation\n",
    "        x = torch.relu(self.layer2(x))  # Apply ReLU activation\n",
    "        x = self.output(x)              # Output layer\n",
    "        return x\n",
    "\n",
    "# Initialize the model, loss function, and optimizer\n",
    "model = NeuralNetwork(X_train.shape[1])  # Input size should match the number of features\n",
    "criterion = nn.CrossEntropyLoss()  # Suitable for classification\n",
    "optimizer = optim.Adam(model.parameters(), lr=0.001)\n",
    "\n",
    "# Train the model\n",
    "epochs = 50\n",
    "for epoch in range(epochs):\n",
    "    model.train()\n",
    "    optimizer.zero_grad()  # Clear the gradients\n",
    "\n",
    "    # Forward pass\n",
    "    outputs = model(X_train)\n",
    "    loss = criterion(outputs, y_train)\n",
    "\n",
    "    # Backward pass\n",
    "    loss.backward()\n",
    "    optimizer.step()\n",
    "\n",
    "    if (epoch+1) % 10 == 0:\n",
    "        print(f'Epoch [{epoch+1}/{epochs}], Loss: {loss.item():.4f}')\n",
    "\n",
    "# Evaluate the model\n",
    "model.eval()\n",
    "with torch.no_grad():\n",
    "    outputs = model(X_test)\n",
    "    _, predicted = torch.max(outputs, 1)  # Get the class with the highest score\n",
    "    print(classification_report(y_test, predicted))\n",
    "    print(confusion_matrix(y_test, predicted))\n"
   ]
  },
  {
   "cell_type": "code",
   "execution_count": 24,
   "id": "3423903e",
   "metadata": {},
   "outputs": [
    {
     "name": "stdout",
     "output_type": "stream",
     "text": [
      "Epoch [10/50], Loss: 0.7005\n",
      "Epoch [20/50], Loss: 0.7005\n",
      "Epoch [30/50], Loss: 0.7005\n",
      "Epoch [40/50], Loss: 0.7005\n",
      "Epoch [50/50], Loss: 0.7005\n",
      "              precision    recall  f1-score   support\n",
      "\n",
      "           0       0.00      0.00      0.00      1933\n",
      "           1       0.64      1.00      0.78      3467\n",
      "\n",
      "    accuracy                           0.64      5400\n",
      "   macro avg       0.32      0.50      0.39      5400\n",
      "weighted avg       0.41      0.64      0.50      5400\n",
      "\n",
      "[[   0 1933]\n",
      " [   0 3467]]\n"
     ]
    },
    {
     "name": "stderr",
     "output_type": "stream",
     "text": [
      "c:\\Users\\mayar\\AppData\\Local\\Programs\\Python\\Python313\\Lib\\site-packages\\sklearn\\metrics\\_classification.py:1531: UndefinedMetricWarning: Precision is ill-defined and being set to 0.0 in labels with no predicted samples. Use `zero_division` parameter to control this behavior.\n",
      "  _warn_prf(average, modifier, f\"{metric.capitalize()} is\", len(result))\n",
      "c:\\Users\\mayar\\AppData\\Local\\Programs\\Python\\Python313\\Lib\\site-packages\\sklearn\\metrics\\_classification.py:1531: UndefinedMetricWarning: Precision is ill-defined and being set to 0.0 in labels with no predicted samples. Use `zero_division` parameter to control this behavior.\n",
      "  _warn_prf(average, modifier, f\"{metric.capitalize()} is\", len(result))\n",
      "c:\\Users\\mayar\\AppData\\Local\\Programs\\Python\\Python313\\Lib\\site-packages\\sklearn\\metrics\\_classification.py:1531: UndefinedMetricWarning: Precision is ill-defined and being set to 0.0 in labels with no predicted samples. Use `zero_division` parameter to control this behavior.\n",
      "  _warn_prf(average, modifier, f\"{metric.capitalize()} is\", len(result))\n"
     ]
    }
   ],
   "source": [
    "import torch\n",
    "import torch.nn as nn\n",
    "import torch.optim as optim\n",
    "from sklearn.metrics import classification_report, confusion_matrix\n",
    "\n",
    "# Neural Network architecture (as defined earlier)\n",
    "class NeuralNetwork(nn.Module):\n",
    "    def __init__(self, input_size):\n",
    "        super(NeuralNetwork, self).__init__()\n",
    "        self.layer1 = nn.Linear(input_size, 64)  # Input layer\n",
    "        self.layer2 = nn.Linear(64, 32)          # Hidden layer\n",
    "        self.output = nn.Linear(32, 2)           # Output layer (2 for binary classification)\n",
    "\n",
    "    def forward(self, x):\n",
    "        x = torch.relu(self.layer1(x))  # Apply ReLU activation\n",
    "        x = torch.relu(self.layer2(x))  # Apply ReLU activation\n",
    "        x = self.output(x)              # Output layer\n",
    "        return x\n",
    "\n",
    "# Convert the SMOTE-balanced data into PyTorch tensors\n",
    "X_train_smote_tensor = torch.tensor(X_train_smote, dtype=torch.float32)\n",
    "y_train_smote_tensor = torch.tensor(y_train_smote.values, dtype=torch.long)\n",
    "X_test_tensor = torch.tensor(X_test_scaled, dtype=torch.float32)\n",
    "y_test_tensor = torch.tensor(y_test.values, dtype=torch.long)\n",
    "\n",
    "# Initialize the model, loss function, and optimizer\n",
    "model = NeuralNetwork(X_train_smote_tensor.shape[1])  # Input size should match the number of features\n",
    "criterion = nn.CrossEntropyLoss()  # Suitable for classification\n",
    "optimizer = optim.Adam(model.parameters(), lr=0.0000001)\n",
    "\n",
    "# Train the model\n",
    "epochs = 50\n",
    "for epoch in range(epochs):\n",
    "    model.train()\n",
    "    optimizer.zero_grad()  # Clear the gradients\n",
    "\n",
    "    # Forward pass\n",
    "    outputs = model(X_train_smote_tensor)\n",
    "    loss = criterion(outputs, y_train_smote_tensor)\n",
    "\n",
    "    # Backward pass\n",
    "    loss.backward()\n",
    "    optimizer.step()\n",
    "\n",
    "    if (epoch+1) % 10 == 0:\n",
    "        print(f'Epoch [{epoch+1}/{epochs}], Loss: {loss.item():.4f}')\n",
    "\n",
    "# Evaluate the model\n",
    "model.eval()\n",
    "with torch.no_grad():\n",
    "    outputs = model(X_test_tensor)\n",
    "    _, predicted = torch.max(outputs, 1)  # Get the class with the highest score\n",
    "    print(classification_report(y_test_tensor, predicted))\n",
    "    print(confusion_matrix(y_test_tensor, predicted))\n"
   ]
  },
  {
   "cell_type": "code",
   "execution_count": 30,
   "id": "8092a96b",
   "metadata": {},
   "outputs": [],
   "source": [
    "from sklearn.metrics import classification_report, accuracy_score\n",
    "\n",
    "def evaluate_model(model, X_test_tensor, y_test_tensor):\n",
    "    \"\"\"\n",
    "    Evaluates the model using accuracy, precision, recall, and F1-score.\n",
    "    \"\"\"\n",
    "    model.eval()  # Set the model to evaluation mode\n",
    "    with torch.no_grad():\n",
    "        # Get model predictions\n",
    "        outputs = model(X_test_tensor)\n",
    "        _, predicted = torch.max(outputs, 1)  # Get the class with the highest score\n",
    "\n",
    "        # Calculate accuracy\n",
    "        accuracy = accuracy_score(y_test_tensor.numpy(), predicted.numpy())\n",
    "        \n",
    "        # Print classification report (includes precision, recall, f1-score)\n",
    "        print(classification_report(y_test_tensor.numpy(), predicted.numpy()))\n",
    "        \n",
    "        return accuracy  # You can also return other metrics like precision, recall, etc.\n"
   ]
  },
  {
   "cell_type": "code",
   "execution_count": 32,
   "id": "5bac770f",
   "metadata": {},
   "outputs": [
    {
     "name": "stdout",
     "output_type": "stream",
     "text": [
      "Best Hyperparameters: {'lr': 0.0005, 'betas': (0.75, 0.95)}\n"
     ]
    }
   ],
   "source": [
    "import torch.optim as optim\n",
    "import torch\n",
    "from sklearn.metrics import classification_report, accuracy_score\n",
    "\n",
    "# Define the Neural Network Model\n",
    "class NeuralNetwork(nn.Module):\n",
    "    def __init__(self, input_size):\n",
    "        super(NeuralNetwork, self).__init__()\n",
    "        self.layer1 = nn.Linear(input_size, 64)  # Input layer\n",
    "        self.layer2 = nn.Linear(64, 32)          # Hidden layer\n",
    "        self.output = nn.Linear(32, 2)           # Output layer (2 for binary classification)\n",
    "\n",
    "    def forward(self, x):\n",
    "        x = torch.relu(self.layer1(x))  # Apply ReLU activation\n",
    "        x = torch.relu(self.layer2(x))  # Apply ReLU activation\n",
    "        x = self.output(x)              # Output layer\n",
    "        return x\n",
    "\n",
    "# Define the evaluation function (accuracy, precision, recall, F1-score)\n",
    "def evaluate_model(model, X_test_tensor, y_test_tensor):\n",
    "    model.eval()  # Set the model to evaluation mode\n",
    "    with torch.no_grad():\n",
    "        # Get model predictions\n",
    "        outputs = model(X_test_tensor)\n",
    "        _, predicted = torch.max(outputs, 1)  # Get the class with the highest score\n",
    "        \n",
    "        # Calculate accuracy\n",
    "        accuracy = accuracy_score(y_test_tensor.numpy(), predicted.numpy())\n",
    "        return accuracy  # Return accuracy (you can also return other metrics if needed)\n",
    "\n",
    "# Hyperparameters to try in Grid Search\n",
    "learning_rates = [0.001, 0.0005, 0.0001]\n",
    "betas = [(0.9, 0.999), (0.8, 0.99), (0.75, 0.95)]\n",
    "\n",
    "best_accuracy = 0\n",
    "best_params = {}\n",
    "\n",
    "# Perform Grid Search\n",
    "for lr in learning_rates:\n",
    "    for beta in betas:\n",
    "        # Initialize the model and optimizer with current hyperparameters\n",
    "        model = NeuralNetwork(X_train_smote_tensor.shape[1])  # Assuming input features match\n",
    "        optimizer = optim.Adam(model.parameters(), lr=lr, betas=beta)\n",
    "        \n",
    "        # Train the model for a few epochs\n",
    "        for epoch in range(10):  # You can adjust the number of epochs\n",
    "            model.train()\n",
    "            optimizer.zero_grad()\n",
    "            outputs = model(X_train_smote_tensor)\n",
    "            loss = criterion(outputs, y_train_smote_tensor)\n",
    "            loss.backward()\n",
    "            optimizer.step()\n",
    "        \n",
    "        # Evaluate the model after training\n",
    "        accuracy = evaluate_model(model, X_test_tensor, y_test_tensor)\n",
    "        \n",
    "        # Update the best parameters if the current accuracy is higher\n",
    "        if accuracy > best_accuracy:\n",
    "            best_accuracy = accuracy\n",
    "            best_params = {'lr': lr, 'betas': beta}\n",
    "\n",
    "# Print the best hyperparameters (without showing individual accuracies)\n",
    "print(\"Best Hyperparameters:\", best_params)\n"
   ]
  },
  {
   "cell_type": "code",
   "execution_count": 33,
   "id": "b590ffa5",
   "metadata": {},
   "outputs": [
    {
     "name": "stdout",
     "output_type": "stream",
     "text": [
      "Epoch [10/50], Loss: 0.6932\n",
      "Epoch [20/50], Loss: 0.6925\n",
      "Epoch [30/50], Loss: 0.6920\n",
      "Epoch [40/50], Loss: 0.6915\n",
      "Epoch [50/50], Loss: 0.6910\n",
      "\n",
      "Classification Report:\n",
      "              precision    recall  f1-score   support\n",
      "\n",
      "           0       0.35      0.47      0.40      1933\n",
      "           1       0.64      0.52      0.58      3467\n",
      "\n",
      "    accuracy                           0.50      5400\n",
      "   macro avg       0.50      0.50      0.49      5400\n",
      "weighted avg       0.54      0.50      0.51      5400\n",
      "\n",
      "\n",
      "Confusion Matrix:\n",
      "[[ 907 1026]\n",
      " [1654 1813]]\n"
     ]
    },
    {
     "data": {
      "image/png": "[encoded data removed]",
      "text/plain": [
       "<Figure size 600x600 with 2 Axes>"
      ]
     },
     "metadata": {},
     "output_type": "display_data"
    }
   ],
   "source": [
    "import torch\n",
    "import torch.optim as optim\n",
    "from sklearn.metrics import classification_report, confusion_matrix\n",
    "import matplotlib.pyplot as plt\n",
    "\n",
    "# Best hyperparameters from grid search\n",
    "lr_best = 0.0005\n",
    "betas_best = (0.75, 0.95)\n",
    "\n",
    "# Initialize the model with the best hyperparameters\n",
    "model = NeuralNetwork(X_train_smote_tensor.shape[1])  # Assuming input features match\n",
    "optimizer = optim.Adam(model.parameters(), lr=lr_best, betas=betas_best)\n",
    "\n",
    "# Train the model with the best hyperparameters\n",
    "epochs = 50  # You can adjust the number of epochs as needed\n",
    "for epoch in range(epochs):\n",
    "    model.train()\n",
    "    optimizer.zero_grad()  # Clear previous gradients\n",
    "\n",
    "    # Forward pass\n",
    "    outputs = model(X_train_smote_tensor)\n",
    "    loss = criterion(outputs, y_train_smote_tensor)\n",
    "\n",
    "    # Backward pass\n",
    "    loss.backward()\n",
    "    optimizer.step()\n",
    "\n",
    "    if (epoch + 1) % 10 == 0:\n",
    "        print(f'Epoch [{epoch+1}/{epochs}], Loss: {loss.item():.4f}')\n",
    "\n",
    "# Evaluate the model on the test set\n",
    "model.eval()\n",
    "with torch.no_grad():\n",
    "    # Get model predictions\n",
    "    outputs = model(X_test_tensor)\n",
    "    _, predicted = torch.max(outputs, 1)  # Get the class with the highest score\n",
    "\n",
    "    # Print classification report\n",
    "    print(\"\\nClassification Report:\")\n",
    "    print(classification_report(y_test_tensor.numpy(), predicted.numpy()))\n",
    "\n",
    "    # Confusion matrix\n",
    "    print(\"\\nConfusion Matrix:\")\n",
    "    cm = confusion_matrix(y_test_tensor.numpy(), predicted.numpy())\n",
    "    print(cm)\n",
    "\n",
    "    # Plot confusion matrix\n",
    "    plt.figure(figsize=(6,6))\n",
    "    plt.imshow(cm, interpolation='nearest', cmap=plt.cm.Blues)\n",
    "    plt.title(\"Confusion Matrix\")\n",
    "    plt.colorbar()\n",
    "    tick_marks = [0, 1]\n",
    "    plt.xticks(tick_marks, ['Dissatisfied', 'Satisfied'])\n",
    "    plt.yticks(tick_marks, ['Dissatisfied', 'Satisfied'])\n",
    "    plt.xlabel('Predicted Label')\n",
    "    plt.ylabel('True Label')\n",
    "    plt.show()\n"
   ]
  },
  {
   "cell_type": "code",
   "execution_count": 34,
   "id": "8c8c6010",
   "metadata": {},
   "outputs": [
    {
     "name": "stdout",
     "output_type": "stream",
     "text": [
      "Cross-validation Accuracy: 0.6881\n"
     ]
    }
   ],
   "source": [
    "from sklearn.model_selection import cross_val_score\n",
    "from sklearn.ensemble import RandomForestClassifier\n",
    "\n",
    "rf_model = RandomForestClassifier(random_state=42)\n",
    "cv_scores = cross_val_score(rf_model, X_train_smote, y_train_smote, cv=5, scoring='accuracy')\n",
    "print(f\"Cross-validation Accuracy: {cv_scores.mean():.4f}\")\n"
   ]
  },
  {
   "cell_type": "code",
   "execution_count": 35,
   "id": "5372da17",
   "metadata": {},
   "outputs": [
    {
     "name": "stdout",
     "output_type": "stream",
     "text": [
      "              precision    recall  f1-score   support\n",
      "\n",
      "           0       0.89      0.03      0.06      1933\n",
      "           1       0.65      1.00      0.79      3467\n",
      "\n",
      "    accuracy                           0.65      5400\n",
      "   macro avg       0.77      0.51      0.42      5400\n",
      "weighted avg       0.74      0.65      0.53      5400\n",
      "\n",
      "[[  58 1875]\n",
      " [   7 3460]]\n"
     ]
    }
   ],
   "source": [
    "# Get probabilities instead of hard class labels\n",
    "y_pred_proba = xgb_model.predict_proba(X_test)[:, 1]\n",
    "threshold = 0.3  # Lower threshold to favor predicting the minority class\n",
    "y_pred = (y_pred_proba > threshold).astype(int)\n",
    "\n",
    "print(classification_report(y_test, y_pred))\n",
    "print(confusion_matrix(y_test, y_pred))\n"
   ]
  }
 ],
 "metadata": {
  "kernelspec": {
   "display_name": "Python 3",
   "language": "python",
   "name": "python3"
  },
  "language_info": {
   "codemirror_mode": {
    "name": "ipython",
    "version": 3
   },
   "file_extension": ".py",
   "mimetype": "text/x-python",
   "name": "python",
   "nbconvert_exporter": "python",
   "pygments_lexer": "ipython3",
   "version": "3.13.0"
  }
 },
 "nbformat": 4,
 "nbformat_minor": 5
}
